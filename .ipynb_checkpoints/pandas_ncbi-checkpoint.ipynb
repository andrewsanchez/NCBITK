{
 "cells": [
  {
   "cell_type": "code",
   "execution_count": 3,
   "metadata": {
    "collapsed": false
   },
   "outputs": [],
   "source": [
    "import sys\n",
    "import subprocess\n",
    "import os\n",
    "import pandas as pd\n",
    "import glob\n",
    "\n",
    "organism = '*'\n",
    "local_mirror = 'genbank_bacteria'\n",
    "ftp_directory = 'bacteria/' + organism + '/latest_assembly_versions/'\n",
    "just_fastas = local_mirror + '_fastas/'\n"
   ]
  },
  {
   "cell_type": "code",
   "execution_count": null,
   "metadata": {
    "collapsed": true
   },
   "outputs": [],
   "source": [
    "if os.path.isdir(organism):\n",
    "    subprocess.run(['rsync',\n",
    "                    '-iPrLtm',\n",
    "                    '--exclude=**/unplaced_scaffolds/**',\n",
    "                    '-f=+ *.fna.gz',\n",
    "                    '-f=+ */',\n",
    "                    '--exclude=*',\n",
    "                    'ftp.ncbi.nlm.nih.gov::genomes/genbank/' + ftp_directory,\n",
    "                    '--log-file=log.txt',\n",
    "                    local_mirror])\n",
    "\n",
    "else:\n",
    "    os.mkdir(organism)\n",
    "    subprocess.run(['rsync',\n",
    "                    '-iPrLtm',\n",
    "                    '--exclude=**/unplaced_scaffolds/**',\n",
    "                    '-f=+ *.fna.gz',\n",
    "                    '-f=+ */',\n",
    "                    '--exclude=*',\n",
    "                    'ftp.ncbi.nlm.nih.gov::genomes/genbank/' + ftp_directory,\n",
    "                    '--log-file=log.txt',\n",
    "                    local_mirror])\n",
    "\n",
    "# copy just fastas from local NCBI mirror to just_fastas directory\n",
    "if os.path.isdir(just_fastas):\n",
    "    subprocess.run(['sudo', 'find', organism, '-type', 'f',\n",
    "                    '-exec', 'cp',\n",
    "                    '-t', just_fastas,\n",
    "                    '-- {}', '+'])\n",
    "\n",
    "else:\n",
    "    os.mkdir(just_fastas)\n",
    "    subprocess.run(['find', organism, '-type', 'f',\n",
    "                '-exec', 'cp',\n",
    "                '-t', just_fastas,\n",
    "                '-- {}', '+'])\n",
    "\n",
    "# Rename files in just_fastas directory\n",
    "summary = sys.argv[3]\n",
    "df = pd.read_csv(summary, delimiter='\\t', index_col=0)\n",
    "\n",
    "df.update(df['infraspecific_name'][(df['infraspecific_name'].isnull()) & (df['isolate'].isnull())].fillna('NA'))\n",
    "df.update(df['infraspecific_name'][(df['infraspecific_name'].isnull()) & (df['isolate'].notnull())].fillna(df['isolate']))\n",
    "df.organism_name.replace({' ': '_'}, regex=True, inplace=True)\n",
    "df.organism_name.replace({'[\\W]': ''}, regex=True, inplace=True)\n",
    "df.infraspecific_name.replace({'[ =\\-\\;]': '_'}, regex=True, inplace=True)\n",
    "df.infraspecific_name.replace({'[\\W]': ''}, regex=True, inplace=True)\n",
    "df.assembly_level.replace({' ': '_'}, regex=True, inplace=True)\n",
    "\n",
    "for f in os.listdir(just_fastas):\n",
    "    if f.startswith('GCA'):\n",
    "        id = (f.split('_')[0:2])\n",
    "        id = ('_'.join(id))\n",
    "\n",
    "    for row in df.index:\n",
    "        if id == row:\n",
    "            org_name = df.get_value(id, 'organism_name')\n",
    "            strain = df.get_value(id, 'infraspecific_name').strip('strain=')\n",
    "            assembly_level  = df.get_value(id, 'assembly_level')\n",
    "            newname = '{}_{}{}_{}.fna.gz'.format(id, org_name, strain, assembly_level)\n",
    "            old = just_fastas+f\n",
    "            new = just_fastas+newname\n",
    "            os.rename(old, new)\n",
    "\n",
    "# Decompress files in just_fastas directory\n",
    "subprocess.run(['pigz', '-d', just_fastas+'*.fna.gz'])"
   ]
  },
  {
   "cell_type": "code",
   "execution_count": null,
   "metadata": {
    "collapsed": true
   },
   "outputs": [],
   "source": [
    "filesDepth3 = glob.glob('*/*/*')\n",
    "dirsDepth3 = filter(lambda f: os.path.isdir(f), filesDepth3)"
   ]
  },
  {
   "cell_type": "code",
   "execution_count": 1,
   "metadata": {
    "collapsed": false
   },
   "outputs": [
    {
     "ename": "KeyboardInterrupt",
     "evalue": "",
     "output_type": "error",
     "traceback": [
      "\u001b[1;31m---------------------------------------------------------------------------\u001b[0m",
      "\u001b[1;31mKeyboardInterrupt\u001b[0m                         Traceback (most recent call last)",
      "\u001b[1;32m<ipython-input-1-7165bf2ba509>\u001b[0m in \u001b[0;36m<module>\u001b[1;34m()\u001b[0m\n\u001b[0;32m      1\u001b[0m \u001b[1;32mfrom\u001b[0m \u001b[0mftplib\u001b[0m \u001b[1;32mimport\u001b[0m \u001b[0mFTP\u001b[0m\u001b[1;33m\u001b[0m\u001b[0m\n\u001b[1;32m----> 2\u001b[1;33m \u001b[0mftp\u001b[0m \u001b[1;33m=\u001b[0m \u001b[0mFTP\u001b[0m\u001b[1;33m(\u001b[0m\u001b[1;34m'ftp.ncbi.nlm.nih.gov'\u001b[0m\u001b[1;33m)\u001b[0m     \u001b[1;31m# connect to host, default port\u001b[0m\u001b[1;33m\u001b[0m\u001b[0m\n\u001b[0m\u001b[0;32m      3\u001b[0m \u001b[0mftp\u001b[0m\u001b[1;33m.\u001b[0m\u001b[0mlogin\u001b[0m\u001b[1;33m(\u001b[0m\u001b[1;33m)\u001b[0m                     \u001b[1;31m# user anonymous, passwd anonymous@\u001b[0m\u001b[1;33m\u001b[0m\u001b[0m\n\u001b[0;32m      4\u001b[0m \u001b[0mftp\u001b[0m\u001b[1;33m.\u001b[0m\u001b[0mretrlines\u001b[0m\u001b[1;33m(\u001b[0m\u001b[1;34m'LIST'\u001b[0m\u001b[1;33m)\u001b[0m           \u001b[1;31m# list directory contents\u001b[0m\u001b[1;33m\u001b[0m\u001b[0m\n",
      "\u001b[1;32m/home/truthling/anaconda3/lib/python3.5/ftplib.py\u001b[0m in \u001b[0;36m__init__\u001b[1;34m(self, host, user, passwd, acct, timeout, source_address)\u001b[0m\n\u001b[0;32m    116\u001b[0m         \u001b[0mself\u001b[0m\u001b[1;33m.\u001b[0m\u001b[0mtimeout\u001b[0m \u001b[1;33m=\u001b[0m \u001b[0mtimeout\u001b[0m\u001b[1;33m\u001b[0m\u001b[0m\n\u001b[0;32m    117\u001b[0m         \u001b[1;32mif\u001b[0m \u001b[0mhost\u001b[0m\u001b[1;33m:\u001b[0m\u001b[1;33m\u001b[0m\u001b[0m\n\u001b[1;32m--> 118\u001b[1;33m             \u001b[0mself\u001b[0m\u001b[1;33m.\u001b[0m\u001b[0mconnect\u001b[0m\u001b[1;33m(\u001b[0m\u001b[0mhost\u001b[0m\u001b[1;33m)\u001b[0m\u001b[1;33m\u001b[0m\u001b[0m\n\u001b[0m\u001b[0;32m    119\u001b[0m             \u001b[1;32mif\u001b[0m \u001b[0muser\u001b[0m\u001b[1;33m:\u001b[0m\u001b[1;33m\u001b[0m\u001b[0m\n\u001b[0;32m    120\u001b[0m                 \u001b[0mself\u001b[0m\u001b[1;33m.\u001b[0m\u001b[0mlogin\u001b[0m\u001b[1;33m(\u001b[0m\u001b[0muser\u001b[0m\u001b[1;33m,\u001b[0m \u001b[0mpasswd\u001b[0m\u001b[1;33m,\u001b[0m \u001b[0macct\u001b[0m\u001b[1;33m)\u001b[0m\u001b[1;33m\u001b[0m\u001b[0m\n",
      "\u001b[1;32m/home/truthling/anaconda3/lib/python3.5/ftplib.py\u001b[0m in \u001b[0;36mconnect\u001b[1;34m(self, host, port, timeout, source_address)\u001b[0m\n\u001b[0;32m    151\u001b[0m             \u001b[0mself\u001b[0m\u001b[1;33m.\u001b[0m\u001b[0msource_address\u001b[0m \u001b[1;33m=\u001b[0m \u001b[0msource_address\u001b[0m\u001b[1;33m\u001b[0m\u001b[0m\n\u001b[0;32m    152\u001b[0m         self.sock = socket.create_connection((self.host, self.port), self.timeout,\n\u001b[1;32m--> 153\u001b[1;33m                                              source_address=self.source_address)\n\u001b[0m\u001b[0;32m    154\u001b[0m         \u001b[0mself\u001b[0m\u001b[1;33m.\u001b[0m\u001b[0maf\u001b[0m \u001b[1;33m=\u001b[0m \u001b[0mself\u001b[0m\u001b[1;33m.\u001b[0m\u001b[0msock\u001b[0m\u001b[1;33m.\u001b[0m\u001b[0mfamily\u001b[0m\u001b[1;33m\u001b[0m\u001b[0m\n\u001b[0;32m    155\u001b[0m         \u001b[0mself\u001b[0m\u001b[1;33m.\u001b[0m\u001b[0mfile\u001b[0m \u001b[1;33m=\u001b[0m \u001b[0mself\u001b[0m\u001b[1;33m.\u001b[0m\u001b[0msock\u001b[0m\u001b[1;33m.\u001b[0m\u001b[0mmakefile\u001b[0m\u001b[1;33m(\u001b[0m\u001b[1;34m'r'\u001b[0m\u001b[1;33m,\u001b[0m \u001b[0mencoding\u001b[0m\u001b[1;33m=\u001b[0m\u001b[0mself\u001b[0m\u001b[1;33m.\u001b[0m\u001b[0mencoding\u001b[0m\u001b[1;33m)\u001b[0m\u001b[1;33m\u001b[0m\u001b[0m\n",
      "\u001b[1;32m/home/truthling/anaconda3/lib/python3.5/socket.py\u001b[0m in \u001b[0;36mcreate_connection\u001b[1;34m(address, timeout, source_address)\u001b[0m\n\u001b[0;32m    696\u001b[0m             \u001b[1;32mif\u001b[0m \u001b[0msource_address\u001b[0m\u001b[1;33m:\u001b[0m\u001b[1;33m\u001b[0m\u001b[0m\n\u001b[0;32m    697\u001b[0m                 \u001b[0msock\u001b[0m\u001b[1;33m.\u001b[0m\u001b[0mbind\u001b[0m\u001b[1;33m(\u001b[0m\u001b[0msource_address\u001b[0m\u001b[1;33m)\u001b[0m\u001b[1;33m\u001b[0m\u001b[0m\n\u001b[1;32m--> 698\u001b[1;33m             \u001b[0msock\u001b[0m\u001b[1;33m.\u001b[0m\u001b[0mconnect\u001b[0m\u001b[1;33m(\u001b[0m\u001b[0msa\u001b[0m\u001b[1;33m)\u001b[0m\u001b[1;33m\u001b[0m\u001b[0m\n\u001b[0m\u001b[0;32m    699\u001b[0m             \u001b[1;32mreturn\u001b[0m \u001b[0msock\u001b[0m\u001b[1;33m\u001b[0m\u001b[0m\n\u001b[0;32m    700\u001b[0m \u001b[1;33m\u001b[0m\u001b[0m\n",
      "\u001b[1;31mKeyboardInterrupt\u001b[0m: "
     ]
    }
   ],
   "source": [
    "from ftplib import FTP\n",
    "ftp = FTP('ftp.ncbi.nlm.nih.gov')     # connect to host, default port\n",
    "ftp.login()                     # user anonymous, passwd anonymous@\n",
    "ftp.retrlines('NLST')           # list directory contents"
   ]
  }
 ],
 "metadata": {
  "kernelspec": {
   "display_name": "Python 3",
   "language": "python",
   "name": "python3"
  },
  "language_info": {
   "codemirror_mode": {
    "name": "ipython",
    "version": 3
   },
   "file_extension": ".py",
   "mimetype": "text/x-python",
   "name": "python",
   "nbconvert_exporter": "python",
   "pygments_lexer": "ipython3",
   "version": "3.5.0"
  }
 },
 "nbformat": 4,
 "nbformat_minor": 0
}
